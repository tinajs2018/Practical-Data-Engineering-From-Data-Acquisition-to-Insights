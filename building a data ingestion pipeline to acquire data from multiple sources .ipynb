{
 "cells": [
  {
   "cell_type": "code",
   "execution_count": 8,
   "metadata": {},
   "outputs": [],
   "source": [
    "#importing vital libarries\n",
    "import pandas as pd\n",
    "import psycopg2\n",
    "import requests"
   ]
  },
  {
   "cell_type": "code",
   "execution_count": 5,
   "metadata": {},
   "outputs": [],
   "source": [
    "# Define Data Sources\n",
    "api_url='https://data.worldbank.org/'\n",
    "csv_file='data.csv'\n",
    "conn = psycopg2.connect(\n",
    "    host=\"localhost\",\n",
    "    port=5432,\n",
    "    database=\"openstreetmap\",\n",
    "    user=\"public\",\n",
    "    password=\"\",\n",
    ")"
   ]
  },
  {
   "cell_type": "code",
   "execution_count": 19,
   "metadata": {},
   "outputs": [],
   "source": [
    "#extracting data from api\n",
    "response =requests.get(api_url)\n",
    "data_api=requests.json()"
   ]
  },
  {
   "cell_type": "code",
   "execution_count": 20,
   "metadata": {},
   "outputs": [],
   "source": [
    "#extracting data from csv\n",
    "data=pd.read_csv('data.csv')"
   ]
  },
  {
   "cell_type": "code",
   "execution_count": 21,
   "metadata": {},
   "outputs": [],
   "source": [
    "#extracting data from the database\n",
    "cur=con.cursor()\n",
    "cur.execute('SELECT * FROM sales')\n",
    "data_db=cur.fetchall()\n",
    "cur.close()\n",
    "con.close()"
   ]
  },
  {
   "cell_type": "markdown",
   "metadata": {},
   "source": [
    "### Load Data into the Target System"
   ]
  },
  {
   "cell_type": "code",
   "execution_count": 22,
   "metadata": {},
   "outputs": [],
   "source": [
    "con=psycopg2.connect(conn)\n",
    "cur=con.curseor()\n",
    "#laod the api data\n",
    "for row in api_data:\n",
    "    cur.execute('INSERT INTO SALES1(Name,id) VALUES (christine,34)',(row['columns1'],row['columns2']))\n",
    "#laod the csv data\n",
    "for index,row in data.iterrows():\n",
    "    cur.execute('INSERT INTO SALES1(Name,id) VALUES (christine,34)',(row['columns1'],row['columns2']))\n",
    "#load database data\n",
    "for row in data_db:\n",
    "    cur.execute('INSERT INTO SALES1(Name,id) VALUES (christine,34)',(row['columns1'],row['columns2']))\n",
    "    \n",
    "    \n",
    "con.commit()\n",
    "cur.close()\n",
    "conn.close()"
   ]
  },
  {
   "cell_type": "code",
   "execution_count": null,
   "metadata": {},
   "outputs": [],
   "source": []
  },
  {
   "cell_type": "code",
   "execution_count": null,
   "metadata": {},
   "outputs": [],
   "source": []
  }
 ],
 "metadata": {
  "kernelspec": {
   "display_name": "Python 3 (ipykernel)",
   "language": "python",
   "name": "python3"
  },
  "language_info": {
   "codemirror_mode": {
    "name": "ipython",
    "version": 3
   },
   "file_extension": ".py",
   "mimetype": "text/x-python",
   "name": "python",
   "nbconvert_exporter": "python",
   "pygments_lexer": "ipython3",
   "version": "3.7.6"
  }
 },
 "nbformat": 4,
 "nbformat_minor": 4
}
